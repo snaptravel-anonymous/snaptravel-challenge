{
 "cells": [
  {
   "cell_type": "markdown",
   "metadata": {},
   "source": [
    "SnapTravel Data Challenge\n",
    "========"
   ]
  },
  {
   "cell_type": "markdown",
   "metadata": {},
   "source": [
    "#### Questions:\n",
    "\n",
    "1. What types of itineraries are popular? Within our popular itineraries, what key trends are you seeing?\n",
    "\n",
    "2. Our goal for spending money is to maximize the amount of clicks while minimizing the amount of spend. With this in mind, where should we increase spend? Where should we decrease spend? \n",
    "\n",
    "3. What’s an interesting insight from the data that you’d like to dive deeper on? \n",
    "\n",
    "#### I decided to approach these questions in Jupyter Notebooks using Python, so you can follow along on my process!\n",
    "#### I will be answering the questions as the answers become unravelled in the data shown below. "
   ]
  },
  {
   "cell_type": "markdown",
   "metadata": {},
   "source": [
    "Imports\n",
    "----"
   ]
  },
  {
   "cell_type": "code",
   "execution_count": 1,
   "metadata": {},
   "outputs": [],
   "source": [
    "import pandas as pd\n",
    "import matplotlib\n",
    "import numpy as np"
   ]
  },
  {
   "cell_type": "markdown",
   "metadata": {},
   "source": [
    "Import CSVs\n",
    "-----"
   ]
  },
  {
   "cell_type": "code",
   "execution_count": 2,
   "metadata": {},
   "outputs": [],
   "source": [
    "case_bookings_df = pd.read_csv('data_analyst_case_bookings (1).csv')\n",
    "case_spend_df = pd.read_csv('data_analyst_case_spend (2).csv')"
   ]
  },
  {
   "cell_type": "markdown",
   "metadata": {},
   "source": [
    "Bookings Analysis\n",
    "--------"
   ]
  },
  {
   "cell_type": "markdown",
   "metadata": {},
   "source": [
    "#### Here is the bookings csv, as a pandas dataframe."
   ]
  },
  {
   "cell_type": "code",
   "execution_count": 3,
   "metadata": {},
   "outputs": [
    {
     "data": {
      "text/html": [
       "<div>\n",
       "<style scoped>\n",
       "    .dataframe tbody tr th:only-of-type {\n",
       "        vertical-align: middle;\n",
       "    }\n",
       "\n",
       "    .dataframe tbody tr th {\n",
       "        vertical-align: top;\n",
       "    }\n",
       "\n",
       "    .dataframe thead th {\n",
       "        text-align: right;\n",
       "    }\n",
       "</style>\n",
       "<table border=\"1\" class=\"dataframe\">\n",
       "  <thead>\n",
       "    <tr style=\"text-align: right;\">\n",
       "      <th></th>\n",
       "      <th>DATE</th>\n",
       "      <th>HOTEL_ID</th>\n",
       "      <th>COUNTRY</th>\n",
       "      <th>HOTEL_STARS</th>\n",
       "      <th>ROOM_PRICE</th>\n",
       "      <th>ROOM_COST</th>\n",
       "      <th>LOS</th>\n",
       "      <th>DTA</th>\n",
       "      <th>BOOKING_DOW</th>\n",
       "      <th>CHECK_IN_DOW</th>\n",
       "    </tr>\n",
       "  </thead>\n",
       "  <tbody>\n",
       "    <tr>\n",
       "      <th>0</th>\n",
       "      <td>2019-05-19</td>\n",
       "      <td>107580.0</td>\n",
       "      <td>US</td>\n",
       "      <td>3</td>\n",
       "      <td>115.89</td>\n",
       "      <td>104.07</td>\n",
       "      <td>1</td>\n",
       "      <td>0</td>\n",
       "      <td>Mon</td>\n",
       "      <td>Mon</td>\n",
       "    </tr>\n",
       "    <tr>\n",
       "      <th>1</th>\n",
       "      <td>2019-05-31</td>\n",
       "      <td>114266.0</td>\n",
       "      <td>US</td>\n",
       "      <td>3</td>\n",
       "      <td>96.33</td>\n",
       "      <td>88.03</td>\n",
       "      <td>1</td>\n",
       "      <td>0</td>\n",
       "      <td>Fri</td>\n",
       "      <td>Fri</td>\n",
       "    </tr>\n",
       "    <tr>\n",
       "      <th>2</th>\n",
       "      <td>2019-05-18</td>\n",
       "      <td>114266.0</td>\n",
       "      <td>US</td>\n",
       "      <td>3</td>\n",
       "      <td>112.04</td>\n",
       "      <td>101.76</td>\n",
       "      <td>1</td>\n",
       "      <td>0</td>\n",
       "      <td>Sat</td>\n",
       "      <td>Sat</td>\n",
       "    </tr>\n",
       "    <tr>\n",
       "      <th>3</th>\n",
       "      <td>2019-05-18</td>\n",
       "      <td>114266.0</td>\n",
       "      <td>US</td>\n",
       "      <td>3</td>\n",
       "      <td>111.18</td>\n",
       "      <td>101.00</td>\n",
       "      <td>1</td>\n",
       "      <td>1</td>\n",
       "      <td>Sat</td>\n",
       "      <td>Sun</td>\n",
       "    </tr>\n",
       "    <tr>\n",
       "      <th>4</th>\n",
       "      <td>2019-05-21</td>\n",
       "      <td>699378.0</td>\n",
       "      <td>US</td>\n",
       "      <td>3</td>\n",
       "      <td>110.02</td>\n",
       "      <td>100.00</td>\n",
       "      <td>1</td>\n",
       "      <td>0</td>\n",
       "      <td>Tue</td>\n",
       "      <td>Tue</td>\n",
       "    </tr>\n",
       "    <tr>\n",
       "      <th>...</th>\n",
       "      <td>...</td>\n",
       "      <td>...</td>\n",
       "      <td>...</td>\n",
       "      <td>...</td>\n",
       "      <td>...</td>\n",
       "      <td>...</td>\n",
       "      <td>...</td>\n",
       "      <td>...</td>\n",
       "      <td>...</td>\n",
       "      <td>...</td>\n",
       "    </tr>\n",
       "    <tr>\n",
       "      <th>16422</th>\n",
       "      <td>2019-05-29</td>\n",
       "      <td>153525.0</td>\n",
       "      <td>US</td>\n",
       "      <td>2</td>\n",
       "      <td>66.57</td>\n",
       "      <td>62.00</td>\n",
       "      <td>1</td>\n",
       "      <td>2</td>\n",
       "      <td>Wed</td>\n",
       "      <td>Fri</td>\n",
       "    </tr>\n",
       "    <tr>\n",
       "      <th>16423</th>\n",
       "      <td>2019-05-29</td>\n",
       "      <td>153525.0</td>\n",
       "      <td>US</td>\n",
       "      <td>2</td>\n",
       "      <td>71.54</td>\n",
       "      <td>66.35</td>\n",
       "      <td>1</td>\n",
       "      <td>0</td>\n",
       "      <td>Wed</td>\n",
       "      <td>Wed</td>\n",
       "    </tr>\n",
       "    <tr>\n",
       "      <th>16424</th>\n",
       "      <td>2019-05-28</td>\n",
       "      <td>153525.0</td>\n",
       "      <td>US</td>\n",
       "      <td>2</td>\n",
       "      <td>71.54</td>\n",
       "      <td>66.35</td>\n",
       "      <td>1</td>\n",
       "      <td>0</td>\n",
       "      <td>Tue</td>\n",
       "      <td>Tue</td>\n",
       "    </tr>\n",
       "    <tr>\n",
       "      <th>16425</th>\n",
       "      <td>2019-05-13</td>\n",
       "      <td>153525.0</td>\n",
       "      <td>US</td>\n",
       "      <td>2</td>\n",
       "      <td>78.90</td>\n",
       "      <td>74.35</td>\n",
       "      <td>1</td>\n",
       "      <td>5</td>\n",
       "      <td>Mon</td>\n",
       "      <td>Sat</td>\n",
       "    </tr>\n",
       "    <tr>\n",
       "      <th>16426</th>\n",
       "      <td>2019-05-13</td>\n",
       "      <td>153525.0</td>\n",
       "      <td>US</td>\n",
       "      <td>2</td>\n",
       "      <td>69.59</td>\n",
       "      <td>66.00</td>\n",
       "      <td>1</td>\n",
       "      <td>0</td>\n",
       "      <td>Mon</td>\n",
       "      <td>Mon</td>\n",
       "    </tr>\n",
       "  </tbody>\n",
       "</table>\n",
       "<p>16427 rows × 10 columns</p>\n",
       "</div>"
      ],
      "text/plain": [
       "             DATE  HOTEL_ID COUNTRY  HOTEL_STARS  ROOM_PRICE  ROOM_COST  LOS  \\\n",
       "0      2019-05-19  107580.0      US            3      115.89     104.07    1   \n",
       "1      2019-05-31  114266.0      US            3       96.33      88.03    1   \n",
       "2      2019-05-18  114266.0      US            3      112.04     101.76    1   \n",
       "3      2019-05-18  114266.0      US            3      111.18     101.00    1   \n",
       "4      2019-05-21  699378.0      US            3      110.02     100.00    1   \n",
       "...           ...       ...     ...          ...         ...        ...  ...   \n",
       "16422  2019-05-29  153525.0      US            2       66.57      62.00    1   \n",
       "16423  2019-05-29  153525.0      US            2       71.54      66.35    1   \n",
       "16424  2019-05-28  153525.0      US            2       71.54      66.35    1   \n",
       "16425  2019-05-13  153525.0      US            2       78.90      74.35    1   \n",
       "16426  2019-05-13  153525.0      US            2       69.59      66.00    1   \n",
       "\n",
       "       DTA BOOKING_DOW CHECK_IN_DOW  \n",
       "0        0         Mon          Mon  \n",
       "1        0         Fri          Fri  \n",
       "2        0         Sat          Sat  \n",
       "3        1         Sat          Sun  \n",
       "4        0         Tue          Tue  \n",
       "...    ...         ...          ...  \n",
       "16422    2         Wed          Fri  \n",
       "16423    0         Wed          Wed  \n",
       "16424    0         Tue          Tue  \n",
       "16425    5         Mon          Sat  \n",
       "16426    0         Mon          Mon  \n",
       "\n",
       "[16427 rows x 10 columns]"
      ]
     },
     "execution_count": 3,
     "metadata": {},
     "output_type": "execute_result"
    }
   ],
   "source": [
    "case_bookings_df"
   ]
  },
  {
   "cell_type": "markdown",
   "metadata": {},
   "source": [
    "### Let's start by investigating some basic popularity statistics. "
   ]
  },
  {
   "cell_type": "code",
   "execution_count": 4,
   "metadata": {},
   "outputs": [
    {
     "data": {
      "text/plain": [
       "135545.0    86\n",
       "106789.0    83\n",
       "112918.0    74\n",
       "122215.0    71\n",
       "118586.0    69\n",
       "            ..\n",
       "124836.0     1\n",
       "109420.0     1\n",
       "114633.0     1\n",
       "135928.0     1\n",
       "120839.0     1\n",
       "Name: HOTEL_ID, Length: 8101, dtype: int64"
      ]
     },
     "execution_count": 4,
     "metadata": {},
     "output_type": "execute_result"
    }
   ],
   "source": [
    "case_bookings_df[\"HOTEL_ID\"].value_counts()"
   ]
  },
  {
   "cell_type": "markdown",
   "metadata": {},
   "source": [
    "#### Insight: Hotel 135545 is the most popular. \n",
    "It would be interesting to see if there is a specific chain of hotels that is most popular. "
   ]
  },
  {
   "cell_type": "code",
   "execution_count": 5,
   "metadata": {},
   "outputs": [
    {
     "data": {
      "text/plain": [
       "US    16004\n",
       "MX      111\n",
       "CA       85\n",
       "CO       21\n",
       "IT       17\n",
       "Name: COUNTRY, dtype: int64"
      ]
     },
     "execution_count": 5,
     "metadata": {},
     "output_type": "execute_result"
    }
   ],
   "source": [
    "case_bookings_df[\"COUNTRY\"].value_counts().head()"
   ]
  },
  {
   "cell_type": "markdown",
   "metadata": {},
   "source": [
    "#### Insight: The US is by far the most popular place to stay. \n",
    "It would be interesting to know which states are most popular as well, since the US is so large."
   ]
  },
  {
   "cell_type": "code",
   "execution_count": 6,
   "metadata": {},
   "outputs": [
    {
     "data": {
      "text/plain": [
       "2    7329\n",
       "3    6254\n",
       "4    2338\n",
       "1     270\n",
       "5     236\n",
       "Name: HOTEL_STARS, dtype: int64"
      ]
     },
     "execution_count": 6,
     "metadata": {},
     "output_type": "execute_result"
    }
   ],
   "source": [
    "case_bookings_df[\"HOTEL_STARS\"].value_counts()"
   ]
  },
  {
   "cell_type": "markdown",
   "metadata": {},
   "source": [
    "#### Insight: Most people are booking 2-star hotels, followed closely by 3-star hotels. "
   ]
  },
  {
   "cell_type": "code",
   "execution_count": 7,
   "metadata": {},
   "outputs": [
    {
     "data": {
      "text/plain": [
       "163.63771839045475"
      ]
     },
     "execution_count": 7,
     "metadata": {},
     "output_type": "execute_result"
    }
   ],
   "source": [
    "case_bookings_df[\"ROOM_PRICE\"].mean()"
   ]
  },
  {
   "cell_type": "code",
   "execution_count": 8,
   "metadata": {},
   "outputs": [
    {
     "data": {
      "text/plain": [
       "120.98"
      ]
     },
     "execution_count": 8,
     "metadata": {},
     "output_type": "execute_result"
    }
   ],
   "source": [
    "case_bookings_df[\"ROOM_PRICE\"].median()"
   ]
  },
  {
   "cell_type": "code",
   "execution_count": 9,
   "metadata": {},
   "outputs": [
    {
     "data": {
      "text/plain": [
       "144.96978737870577"
      ]
     },
     "execution_count": 9,
     "metadata": {},
     "output_type": "execute_result"
    }
   ],
   "source": [
    "case_bookings_df[\"ROOM_COST\"].mean()"
   ]
  },
  {
   "cell_type": "code",
   "execution_count": 10,
   "metadata": {},
   "outputs": [
    {
     "data": {
      "text/plain": [
       "108.23"
      ]
     },
     "execution_count": 10,
     "metadata": {},
     "output_type": "execute_result"
    }
   ],
   "source": [
    "case_bookings_df[\"ROOM_COST\"].median()"
   ]
  },
  {
   "cell_type": "markdown",
   "metadata": {},
   "source": [
    "#### Insight: The most popular price range is 100-200 dollars."
   ]
  },
  {
   "cell_type": "code",
   "execution_count": 11,
   "metadata": {},
   "outputs": [
    {
     "data": {
      "text/plain": [
       "1     13027\n",
       "2      2395\n",
       "3       686\n",
       "4       194\n",
       "5        76\n",
       "6        25\n",
       "7        18\n",
       "8         4\n",
       "10        1\n",
       "9         1\n",
       "Name: LOS, dtype: int64"
      ]
     },
     "execution_count": 11,
     "metadata": {},
     "output_type": "execute_result"
    }
   ],
   "source": [
    "case_bookings_df[\"LOS\"].value_counts()"
   ]
  },
  {
   "cell_type": "markdown",
   "metadata": {},
   "source": [
    "#### Insight: The most common length of stay is simply 1 day, by far."
   ]
  },
  {
   "cell_type": "code",
   "execution_count": 12,
   "metadata": {},
   "outputs": [
    {
     "data": {
      "text/plain": [
       "0      9632\n",
       "1      1550\n",
       "2       765\n",
       "3       550\n",
       "4       364\n",
       "       ... \n",
       "177       1\n",
       "94        1\n",
       "245       1\n",
       "371       1\n",
       "191       1\n",
       "Name: DTA, Length: 123, dtype: int64"
      ]
     },
     "execution_count": 12,
     "metadata": {},
     "output_type": "execute_result"
    }
   ],
   "source": [
    "case_bookings_df[\"DTA\"].value_counts()"
   ]
  },
  {
   "cell_type": "markdown",
   "metadata": {},
   "source": [
    "#### Insight: Most people book same-day check-ins."
   ]
  },
  {
   "cell_type": "markdown",
   "metadata": {},
   "source": [
    "#### Let's find out what the most popular check-in days of week are. "
   ]
  },
  {
   "cell_type": "code",
   "execution_count": 13,
   "metadata": {},
   "outputs": [],
   "source": [
    "days_of_week = ['Mon', 'Tue', 'Wed', 'Thu', 'Fri', 'Sat', 'Sun']"
   ]
  },
  {
   "cell_type": "code",
   "execution_count": 14,
   "metadata": {},
   "outputs": [
    {
     "data": {
      "text/plain": [
       "Text(0, 0.5, 'Popularity (Number of checkins)')"
      ]
     },
     "execution_count": 14,
     "metadata": {},
     "output_type": "execute_result"
    },
    {
     "data": {
      "image/png": "[encoded data removed]",
      "text/plain": [
       "<Figure size 432x288 with 1 Axes>"
      ]
     },
     "metadata": {
      "needs_background": "light"
     },
     "output_type": "display_data"
    }
   ],
   "source": [
    "# Find number of checkins per day of week\n",
    "check_in_dow = case_bookings_df[\"CHECK_IN_DOW\"].value_counts().reindex(days_of_week)\n",
    "\n",
    "# Plot number of checkins per day of week\n",
    "ax = check_in_dow.plot(title='Popularity of Check-in Dates')\n",
    "ax.set_xlabel(\"Day of week\")\n",
    "ax.set_ylabel(\"Popularity (Number of checkins)\")"
   ]
  },
  {
   "cell_type": "markdown",
   "metadata": {},
   "source": [
    "#### Therefore, the most popular check in day of week is Saturday, followed closely by Friday. "
   ]
  },
  {
   "cell_type": "code",
   "execution_count": 15,
   "metadata": {},
   "outputs": [
    {
     "data": {
      "text/plain": [
       "Text(0, 0.5, 'Popularity (Number of bookings)')"
      ]
     },
     "execution_count": 15,
     "metadata": {},
     "output_type": "execute_result"
    },
    {
     "data": {
      "image/png": "[encoded data removed]",
      "text/plain": [
       "<Figure size 432x288 with 1 Axes>"
      ]
     },
     "metadata": {
      "needs_background": "light"
     },
     "output_type": "display_data"
    }
   ],
   "source": [
    "# Find number of bookings per day of week\n",
    "booking_dow = case_bookings_df[\"BOOKING_DOW\"].value_counts().reindex(days_of_week)\n",
    "\n",
    "# Plot number of bookings per day of week\n",
    "ax = booking_dow.plot(title='Popularity of Booking Dates')\n",
    "ax.set_xlabel(\"Day of week\")\n",
    "ax.set_ylabel(\"Popularity (Number of bookings)\")"
   ]
  },
  {
   "cell_type": "markdown",
   "metadata": {},
   "source": [
    "#### Also interesting to note, most bookings are made on Friday. \n",
    "\n",
    "#### Therefore, perhaps it would be advantageous to peak advertisements around or just before Friday, as people would see the advertisement and be inclined to click and book same-day check-ins."
   ]
  },
  {
   "cell_type": "markdown",
   "metadata": {},
   "source": [
    "Answer to Question 1\n",
    "======"
   ]
  },
  {
   "cell_type": "markdown",
   "metadata": {},
   "source": [
    "In summary, to answer Question 1, the most popular itinerary consists of a Friday booking and Saturday check-in to a 2-star, 100-200 dollar range hotel in the US."
   ]
  },
  {
   "cell_type": "markdown",
   "metadata": {},
   "source": [
    "Spend Analysis\n",
    "------"
   ]
  },
  {
   "cell_type": "code",
   "execution_count": 16,
   "metadata": {},
   "outputs": [
    {
     "data": {
      "text/html": [
       "<div>\n",
       "<style scoped>\n",
       "    .dataframe tbody tr th:only-of-type {\n",
       "        vertical-align: middle;\n",
       "    }\n",
       "\n",
       "    .dataframe tbody tr th {\n",
       "        vertical-align: top;\n",
       "    }\n",
       "\n",
       "    .dataframe thead th {\n",
       "        text-align: right;\n",
       "    }\n",
       "</style>\n",
       "<table border=\"1\" class=\"dataframe\">\n",
       "  <thead>\n",
       "    <tr style=\"text-align: right;\">\n",
       "      <th></th>\n",
       "      <th>DATE</th>\n",
       "      <th>HOTEL_ID</th>\n",
       "      <th>DTA</th>\n",
       "      <th>LOS</th>\n",
       "      <th>CHECK_IN_DOW</th>\n",
       "      <th>BOOKING_DOW</th>\n",
       "      <th>ELIGIBLE_IMPRESSIONS</th>\n",
       "      <th>IMPRESSIONS</th>\n",
       "      <th>CLICKS</th>\n",
       "      <th>SPEND</th>\n",
       "    </tr>\n",
       "  </thead>\n",
       "  <tbody>\n",
       "    <tr>\n",
       "      <th>1392248</th>\n",
       "      <td>2019-05-25</td>\n",
       "      <td>252954</td>\n",
       "      <td>0</td>\n",
       "      <td>1</td>\n",
       "      <td>Sat</td>\n",
       "      <td>Sat</td>\n",
       "      <td>85</td>\n",
       "      <td>85</td>\n",
       "      <td>38</td>\n",
       "      <td>6.884154</td>\n",
       "    </tr>\n",
       "    <tr>\n",
       "      <th>3744635</th>\n",
       "      <td>2019-05-24</td>\n",
       "      <td>229555</td>\n",
       "      <td>1</td>\n",
       "      <td>2</td>\n",
       "      <td>Sat</td>\n",
       "      <td>Fri</td>\n",
       "      <td>128</td>\n",
       "      <td>128</td>\n",
       "      <td>29</td>\n",
       "      <td>10.791499</td>\n",
       "    </tr>\n",
       "    <tr>\n",
       "      <th>1367966</th>\n",
       "      <td>2019-05-25</td>\n",
       "      <td>118586</td>\n",
       "      <td>0</td>\n",
       "      <td>2</td>\n",
       "      <td>Sat</td>\n",
       "      <td>Sat</td>\n",
       "      <td>47</td>\n",
       "      <td>47</td>\n",
       "      <td>25</td>\n",
       "      <td>9.526714</td>\n",
       "    </tr>\n",
       "    <tr>\n",
       "      <th>1384021</th>\n",
       "      <td>2019-05-25</td>\n",
       "      <td>1041711</td>\n",
       "      <td>0</td>\n",
       "      <td>1</td>\n",
       "      <td>Sat</td>\n",
       "      <td>Sat</td>\n",
       "      <td>143</td>\n",
       "      <td>143</td>\n",
       "      <td>25</td>\n",
       "      <td>5.442427</td>\n",
       "    </tr>\n",
       "    <tr>\n",
       "      <th>3469759</th>\n",
       "      <td>2019-05-18</td>\n",
       "      <td>241363</td>\n",
       "      <td>0</td>\n",
       "      <td>1</td>\n",
       "      <td>Sat</td>\n",
       "      <td>Sat</td>\n",
       "      <td>95</td>\n",
       "      <td>95</td>\n",
       "      <td>21</td>\n",
       "      <td>2.275130</td>\n",
       "    </tr>\n",
       "    <tr>\n",
       "      <th>...</th>\n",
       "      <td>...</td>\n",
       "      <td>...</td>\n",
       "      <td>...</td>\n",
       "      <td>...</td>\n",
       "      <td>...</td>\n",
       "      <td>...</td>\n",
       "      <td>...</td>\n",
       "      <td>...</td>\n",
       "      <td>...</td>\n",
       "      <td>...</td>\n",
       "    </tr>\n",
       "    <tr>\n",
       "      <th>1395563</th>\n",
       "      <td>2019-05-25</td>\n",
       "      <td>209623</td>\n",
       "      <td>0</td>\n",
       "      <td>1</td>\n",
       "      <td>Sat</td>\n",
       "      <td>Sat</td>\n",
       "      <td>3</td>\n",
       "      <td>3</td>\n",
       "      <td>1</td>\n",
       "      <td>0.043052</td>\n",
       "    </tr>\n",
       "    <tr>\n",
       "      <th>1395562</th>\n",
       "      <td>2019-05-25</td>\n",
       "      <td>688137</td>\n",
       "      <td>26</td>\n",
       "      <td>1</td>\n",
       "      <td>Thu</td>\n",
       "      <td>Sat</td>\n",
       "      <td>7</td>\n",
       "      <td>1</td>\n",
       "      <td>1</td>\n",
       "      <td>0.147200</td>\n",
       "    </tr>\n",
       "    <tr>\n",
       "      <th>1395544</th>\n",
       "      <td>2019-05-25</td>\n",
       "      <td>125683</td>\n",
       "      <td>1</td>\n",
       "      <td>1</td>\n",
       "      <td>Sun</td>\n",
       "      <td>Sat</td>\n",
       "      <td>3</td>\n",
       "      <td>1</td>\n",
       "      <td>1</td>\n",
       "      <td>0.220546</td>\n",
       "    </tr>\n",
       "    <tr>\n",
       "      <th>1395477</th>\n",
       "      <td>2019-05-25</td>\n",
       "      <td>188823</td>\n",
       "      <td>0</td>\n",
       "      <td>1</td>\n",
       "      <td>Sat</td>\n",
       "      <td>Sat</td>\n",
       "      <td>9</td>\n",
       "      <td>9</td>\n",
       "      <td>1</td>\n",
       "      <td>0.110993</td>\n",
       "    </tr>\n",
       "    <tr>\n",
       "      <th>3949720</th>\n",
       "      <td>2019-05-30</td>\n",
       "      <td>493864</td>\n",
       "      <td>21</td>\n",
       "      <td>1</td>\n",
       "      <td>Thu</td>\n",
       "      <td>Thu</td>\n",
       "      <td>4</td>\n",
       "      <td>2</td>\n",
       "      <td>1</td>\n",
       "      <td>0.197774</td>\n",
       "    </tr>\n",
       "  </tbody>\n",
       "</table>\n",
       "<p>90542 rows × 10 columns</p>\n",
       "</div>"
      ],
      "text/plain": [
       "               DATE  HOTEL_ID  DTA  LOS CHECK_IN_DOW BOOKING_DOW  \\\n",
       "1392248  2019-05-25    252954    0    1          Sat         Sat   \n",
       "3744635  2019-05-24    229555    1    2          Sat         Fri   \n",
       "1367966  2019-05-25    118586    0    2          Sat         Sat   \n",
       "1384021  2019-05-25   1041711    0    1          Sat         Sat   \n",
       "3469759  2019-05-18    241363    0    1          Sat         Sat   \n",
       "...             ...       ...  ...  ...          ...         ...   \n",
       "1395563  2019-05-25    209623    0    1          Sat         Sat   \n",
       "1395562  2019-05-25    688137   26    1          Thu         Sat   \n",
       "1395544  2019-05-25    125683    1    1          Sun         Sat   \n",
       "1395477  2019-05-25    188823    0    1          Sat         Sat   \n",
       "3949720  2019-05-30    493864   21    1          Thu         Thu   \n",
       "\n",
       "         ELIGIBLE_IMPRESSIONS  IMPRESSIONS  CLICKS      SPEND  \n",
       "1392248                    85           85      38   6.884154  \n",
       "3744635                   128          128      29  10.791499  \n",
       "1367966                    47           47      25   9.526714  \n",
       "1384021                   143          143      25   5.442427  \n",
       "3469759                    95           95      21   2.275130  \n",
       "...                       ...          ...     ...        ...  \n",
       "1395563                     3            3       1   0.043052  \n",
       "1395562                     7            1       1   0.147200  \n",
       "1395544                     3            1       1   0.220546  \n",
       "1395477                     9            9       1   0.110993  \n",
       "3949720                     4            2       1   0.197774  \n",
       "\n",
       "[90542 rows x 10 columns]"
      ]
     },
     "execution_count": 16,
     "metadata": {},
     "output_type": "execute_result"
    }
   ],
   "source": [
    "# Let's order the dataframe by the highest number of clicks. \n",
    "case_spend_df[case_spend_df[\"CLICKS\"] > 0].sort_values(\"CLICKS\", ascending=False)"
   ]
  },
  {
   "cell_type": "code",
   "execution_count": 17,
   "metadata": {},
   "outputs": [
    {
     "data": {
      "text/html": [
       "<div>\n",
       "<style scoped>\n",
       "    .dataframe tbody tr th:only-of-type {\n",
       "        vertical-align: middle;\n",
       "    }\n",
       "\n",
       "    .dataframe tbody tr th {\n",
       "        vertical-align: top;\n",
       "    }\n",
       "\n",
       "    .dataframe thead th {\n",
       "        text-align: right;\n",
       "    }\n",
       "</style>\n",
       "<table border=\"1\" class=\"dataframe\">\n",
       "  <thead>\n",
       "    <tr style=\"text-align: right;\">\n",
       "      <th></th>\n",
       "      <th>DATE</th>\n",
       "      <th>HOTEL_ID</th>\n",
       "      <th>DTA</th>\n",
       "      <th>LOS</th>\n",
       "      <th>CHECK_IN_DOW</th>\n",
       "      <th>BOOKING_DOW</th>\n",
       "      <th>ELIGIBLE_IMPRESSIONS</th>\n",
       "      <th>IMPRESSIONS</th>\n",
       "      <th>CLICKS</th>\n",
       "      <th>SPEND</th>\n",
       "    </tr>\n",
       "  </thead>\n",
       "  <tbody>\n",
       "    <tr>\n",
       "      <th>1984612</th>\n",
       "      <td>2019-05-24</td>\n",
       "      <td>257547</td>\n",
       "      <td>1</td>\n",
       "      <td>1</td>\n",
       "      <td>Sat</td>\n",
       "      <td>Fri</td>\n",
       "      <td>17</td>\n",
       "      <td>17</td>\n",
       "      <td>9</td>\n",
       "      <td>14.011718</td>\n",
       "    </tr>\n",
       "    <tr>\n",
       "      <th>565673</th>\n",
       "      <td>2019-05-17</td>\n",
       "      <td>109284</td>\n",
       "      <td>0</td>\n",
       "      <td>1</td>\n",
       "      <td>Fri</td>\n",
       "      <td>Fri</td>\n",
       "      <td>103</td>\n",
       "      <td>103</td>\n",
       "      <td>15</td>\n",
       "      <td>12.086967</td>\n",
       "    </tr>\n",
       "    <tr>\n",
       "      <th>3744635</th>\n",
       "      <td>2019-05-24</td>\n",
       "      <td>229555</td>\n",
       "      <td>1</td>\n",
       "      <td>2</td>\n",
       "      <td>Sat</td>\n",
       "      <td>Fri</td>\n",
       "      <td>128</td>\n",
       "      <td>128</td>\n",
       "      <td>29</td>\n",
       "      <td>10.791499</td>\n",
       "    </tr>\n",
       "    <tr>\n",
       "      <th>835126</th>\n",
       "      <td>2019-05-11</td>\n",
       "      <td>200083</td>\n",
       "      <td>0</td>\n",
       "      <td>1</td>\n",
       "      <td>Sat</td>\n",
       "      <td>Sat</td>\n",
       "      <td>48</td>\n",
       "      <td>48</td>\n",
       "      <td>9</td>\n",
       "      <td>9.979918</td>\n",
       "    </tr>\n",
       "    <tr>\n",
       "      <th>1367966</th>\n",
       "      <td>2019-05-25</td>\n",
       "      <td>118586</td>\n",
       "      <td>0</td>\n",
       "      <td>2</td>\n",
       "      <td>Sat</td>\n",
       "      <td>Sat</td>\n",
       "      <td>47</td>\n",
       "      <td>47</td>\n",
       "      <td>25</td>\n",
       "      <td>9.526714</td>\n",
       "    </tr>\n",
       "    <tr>\n",
       "      <th>...</th>\n",
       "      <td>...</td>\n",
       "      <td>...</td>\n",
       "      <td>...</td>\n",
       "      <td>...</td>\n",
       "      <td>...</td>\n",
       "      <td>...</td>\n",
       "      <td>...</td>\n",
       "      <td>...</td>\n",
       "      <td>...</td>\n",
       "      <td>...</td>\n",
       "    </tr>\n",
       "    <tr>\n",
       "      <th>2083932</th>\n",
       "      <td>2019-05-26</td>\n",
       "      <td>357282</td>\n",
       "      <td>2</td>\n",
       "      <td>1</td>\n",
       "      <td>Tue</td>\n",
       "      <td>Sun</td>\n",
       "      <td>7</td>\n",
       "      <td>2</td>\n",
       "      <td>1</td>\n",
       "      <td>0.029541</td>\n",
       "    </tr>\n",
       "    <tr>\n",
       "      <th>1524060</th>\n",
       "      <td>2019-05-30</td>\n",
       "      <td>209715</td>\n",
       "      <td>0</td>\n",
       "      <td>1</td>\n",
       "      <td>Thu</td>\n",
       "      <td>Thu</td>\n",
       "      <td>3</td>\n",
       "      <td>3</td>\n",
       "      <td>1</td>\n",
       "      <td>0.028337</td>\n",
       "    </tr>\n",
       "    <tr>\n",
       "      <th>2488009</th>\n",
       "      <td>2019-05-27</td>\n",
       "      <td>201180</td>\n",
       "      <td>0</td>\n",
       "      <td>1</td>\n",
       "      <td>Mon</td>\n",
       "      <td>Mon</td>\n",
       "      <td>12</td>\n",
       "      <td>7</td>\n",
       "      <td>1</td>\n",
       "      <td>0.028220</td>\n",
       "    </tr>\n",
       "    <tr>\n",
       "      <th>1734515</th>\n",
       "      <td>2019-05-14</td>\n",
       "      <td>193219</td>\n",
       "      <td>12</td>\n",
       "      <td>1</td>\n",
       "      <td>Sun</td>\n",
       "      <td>Tue</td>\n",
       "      <td>6</td>\n",
       "      <td>6</td>\n",
       "      <td>1</td>\n",
       "      <td>0.028219</td>\n",
       "    </tr>\n",
       "    <tr>\n",
       "      <th>2127960</th>\n",
       "      <td>2019-05-28</td>\n",
       "      <td>107539</td>\n",
       "      <td>23</td>\n",
       "      <td>1</td>\n",
       "      <td>Thu</td>\n",
       "      <td>Tue</td>\n",
       "      <td>4</td>\n",
       "      <td>4</td>\n",
       "      <td>1</td>\n",
       "      <td>0.027251</td>\n",
       "    </tr>\n",
       "  </tbody>\n",
       "</table>\n",
       "<p>90542 rows × 10 columns</p>\n",
       "</div>"
      ],
      "text/plain": [
       "               DATE  HOTEL_ID  DTA  LOS CHECK_IN_DOW BOOKING_DOW  \\\n",
       "1984612  2019-05-24    257547    1    1          Sat         Fri   \n",
       "565673   2019-05-17    109284    0    1          Fri         Fri   \n",
       "3744635  2019-05-24    229555    1    2          Sat         Fri   \n",
       "835126   2019-05-11    200083    0    1          Sat         Sat   \n",
       "1367966  2019-05-25    118586    0    2          Sat         Sat   \n",
       "...             ...       ...  ...  ...          ...         ...   \n",
       "2083932  2019-05-26    357282    2    1          Tue         Sun   \n",
       "1524060  2019-05-30    209715    0    1          Thu         Thu   \n",
       "2488009  2019-05-27    201180    0    1          Mon         Mon   \n",
       "1734515  2019-05-14    193219   12    1          Sun         Tue   \n",
       "2127960  2019-05-28    107539   23    1          Thu         Tue   \n",
       "\n",
       "         ELIGIBLE_IMPRESSIONS  IMPRESSIONS  CLICKS      SPEND  \n",
       "1984612                    17           17       9  14.011718  \n",
       "565673                    103          103      15  12.086967  \n",
       "3744635                   128          128      29  10.791499  \n",
       "835126                     48           48       9   9.979918  \n",
       "1367966                    47           47      25   9.526714  \n",
       "...                       ...          ...     ...        ...  \n",
       "2083932                     7            2       1   0.029541  \n",
       "1524060                     3            3       1   0.028337  \n",
       "2488009                    12            7       1   0.028220  \n",
       "1734515                     6            6       1   0.028219  \n",
       "2127960                     4            4       1   0.027251  \n",
       "\n",
       "[90542 rows x 10 columns]"
      ]
     },
     "execution_count": 17,
     "metadata": {},
     "output_type": "execute_result"
    }
   ],
   "source": [
    "# And here is the dataframe ordered by highest spend. \n",
    "case_spend_df[case_spend_df[\"CLICKS\"] > 0].sort_values(\"SPEND\", ascending=False)"
   ]
  },
  {
   "cell_type": "markdown",
   "metadata": {},
   "source": [
    "### Let's have a look at some basic relations."
   ]
  },
  {
   "cell_type": "code",
   "execution_count": 30,
   "metadata": {},
   "outputs": [
    {
     "data": {
      "text/plain": [
       "<matplotlib.axes._subplots.AxesSubplot at 0x11c934f50>"
      ]
     },
     "execution_count": 30,
     "metadata": {},
     "output_type": "execute_result"
    },
    {
     "data": {
      "image/png": "[encoded data removed]",
      "text/plain": [
       "<Figure size 432x288 with 1 Axes>"
      ]
     },
     "metadata": {
      "needs_background": "light"
     },
     "output_type": "display_data"
    }
   ],
   "source": [
    "# This is a plot of Date until Arrival vs CLICKS\n",
    "case_spend_df.plot.scatter(x='DTA', y='CLICKS', title='Date until Arrival vs Clicks')"
   ]
  },
  {
   "cell_type": "markdown",
   "metadata": {},
   "source": [
    "#### It appears that the less date until arrival gains more clicks on average."
   ]
  },
  {
   "cell_type": "code",
   "execution_count": 31,
   "metadata": {},
   "outputs": [
    {
     "data": {
      "text/plain": [
       "<matplotlib.axes._subplots.AxesSubplot at 0x11ce9ad10>"
      ]
     },
     "execution_count": 31,
     "metadata": {},
     "output_type": "execute_result"
    },
    {
     "data": {
      "image/png": "[encoded data removed]",
      "text/plain": [
       "<Figure size 432x288 with 1 Axes>"
      ]
     },
     "metadata": {
      "needs_background": "light"
     },
     "output_type": "display_data"
    }
   ],
   "source": [
    "# This is a plot of Length of Stay vs CLICKS\n",
    "case_spend_df.plot.scatter(x='LOS', y='CLICKS', title='Lenth of Stay vs Clicks')"
   ]
  },
  {
   "cell_type": "markdown",
   "metadata": {},
   "source": [
    "#### It also appears that shorter length of stay advertised will gain more clicks, on average."
   ]
  },
  {
   "cell_type": "code",
   "execution_count": 24,
   "metadata": {},
   "outputs": [
    {
     "data": {
      "text/plain": [
       "<matplotlib.axes._subplots.AxesSubplot at 0x115c87790>"
      ]
     },
     "execution_count": 24,
     "metadata": {},
     "output_type": "execute_result"
    },
    {
     "data": {
      "image/png": "[encoded data removed]",
      "text/plain": [
       "<Figure size 432x288 with 1 Axes>"
      ]
     },
     "metadata": {
      "needs_background": "light"
     },
     "output_type": "display_data"
    }
   ],
   "source": [
    "# This is a plot of IMPRESSIONS vs CLICKS\n",
    "case_spend_df.plot.scatter(x='IMPRESSIONS', y='CLICKS', title='Impressions vs Clicks')"
   ]
  },
  {
   "cell_type": "markdown",
   "metadata": {},
   "source": [
    "#### Interestingly, there is not necessarily a correlation between number of impressions and number of clicks. \n",
    "#### Therefore, pooling money into impressions will not necessarily yield an increase in clicks. "
   ]
  },
  {
   "cell_type": "code",
   "execution_count": 18,
   "metadata": {},
   "outputs": [
    {
     "data": {
      "text/plain": [
       "<matplotlib.axes._subplots.AxesSubplot at 0x1163e8410>"
      ]
     },
     "execution_count": 18,
     "metadata": {},
     "output_type": "execute_result"
    },
    {
     "data": {
      "image/png": "[encoded data removed]",
      "text/plain": [
       "<Figure size 432x288 with 1 Axes>"
      ]
     },
     "metadata": {
      "needs_background": "light"
     },
     "output_type": "display_data"
    }
   ],
   "source": [
    "# This is a plot of SPEND vs CLICKS\n",
    "case_spend_df.plot.scatter(x='SPEND', y='CLICKS', title='Spend vs Clicks')"
   ]
  },
  {
   "cell_type": "markdown",
   "metadata": {},
   "source": [
    "#### As you can see, there is not necessarily a correlation with more spend equalling more clicks. \n",
    "#### Therefore, it would be unwise to blindly input money without strategy, expecting an output of more clicks. "
   ]
  },
  {
   "cell_type": "code",
   "execution_count": 19,
   "metadata": {},
   "outputs": [
    {
     "data": {
      "text/plain": [
       "<matplotlib.axes._subplots.AxesSubplot at 0x105885690>"
      ]
     },
     "execution_count": 19,
     "metadata": {},
     "output_type": "execute_result"
    },
    {
     "data": {
      "image/png": "[encoded data removed]",
      "text/plain": [
       "<Figure size 432x288 with 1 Axes>"
      ]
     },
     "metadata": {
      "needs_background": "light"
     },
     "output_type": "display_data"
    }
   ],
   "source": [
    "# Create dataframe of clicks and spend per check-in day of week, summed\n",
    "check_in_dow_clicks_and_spend_sum = case_spend_df[case_spend_df[\"CLICKS\"] > 0].groupby(['CHECK_IN_DOW']).sum()[[\"CLICKS\", \"SPEND\"]].reindex(days_of_week)\n",
    "check_in_dow_clicks_and_spend_sum.plot(title='Juxtaposition of Clicks and Spend per Check-in DOW')"
   ]
  },
  {
   "cell_type": "markdown",
   "metadata": {},
   "source": [
    "#### At first glance from this plot, it may seem like the more dollars pooled into Saturday ads, the more clicks will be received. \n",
    "#### However, is this necessarily true?\n",
    "#### Let's have a look at how much clicks we get per dollar spent per each  day. "
   ]
  },
  {
   "cell_type": "code",
   "execution_count": 20,
   "metadata": {},
   "outputs": [
    {
     "data": {
      "text/plain": [
       "Text(0, 0.5, 'Number of clicks per spend')"
      ]
     },
     "execution_count": 20,
     "metadata": {},
     "output_type": "execute_result"
    },
    {
     "data": {
      "image/png": "[encoded data removed]",
      "text/plain": [
       "<Figure size 432x288 with 1 Axes>"
      ]
     },
     "metadata": {
      "needs_background": "light"
     },
     "output_type": "display_data"
    }
   ],
   "source": [
    "# Get the number of clicks per spend as per check-in dates\n",
    "checkin_clicks_per_spend = check_in_dow_clicks_and_spend_sum[\"CLICKS\"]/check_in_dow_clicks_and_spend_sum[\"SPEND\"]\n",
    "\n",
    "# Plot number of clicks per spend as per check-in dates\n",
    "ax = checkin_clicks_per_spend.plot(title='Juxtaposition of Clicks and Spend per Check-in DOW')\n",
    "ax.set_xlabel(\"Day of week\")\n",
    "ax.set_ylabel(\"Number of clicks per spend\")"
   ]
  },
  {
   "cell_type": "markdown",
   "metadata": {},
   "source": [
    "#### Here, you can see that Saturday actually receives the LEAST clicks per dollar spent. \n",
    "#### Therefore, it may be unwise to blindly pool money into Saturday for optimal clicks. \n",
    "#### The same pattern is seen when looking at booking dates below."
   ]
  },
  {
   "cell_type": "code",
   "execution_count": 21,
   "metadata": {},
   "outputs": [
    {
     "data": {
      "text/plain": [
       "<matplotlib.axes._subplots.AxesSubplot at 0x115444610>"
      ]
     },
     "execution_count": 21,
     "metadata": {},
     "output_type": "execute_result"
    },
    {
     "data": {
      "image/png": "[encoded data removed]",
      "text/plain": [
       "<Figure size 432x288 with 1 Axes>"
      ]
     },
     "metadata": {
      "needs_background": "light"
     },
     "output_type": "display_data"
    }
   ],
   "source": [
    "# Create dataframe of clicks and spend per booking day of week, summed\n",
    "booking_dow_clicks_and_spend_sum = case_spend_df[case_spend_df[\"CLICKS\"] > 0].groupby(['BOOKING_DOW']).sum()[[\"CLICKS\", \"SPEND\"]].reindex(days_of_week)\n",
    "booking_dow_clicks_and_spend_sum.plot(title='Juxtaposition of Clicks and Spend per Booking DOW')"
   ]
  },
  {
   "cell_type": "markdown",
   "metadata": {},
   "source": [
    "#### Again, here it seems like the more money pooled into Friday ads, the more clicks will be received. \n",
    "#### However, again, by looking at clicks per spend below, this is proven to be not necessarily true. "
   ]
  },
  {
   "cell_type": "code",
   "execution_count": 22,
   "metadata": {},
   "outputs": [
    {
     "data": {
      "text/plain": [
       "Text(0, 0.5, 'Number of clicks per spend')"
      ]
     },
     "execution_count": 22,
     "metadata": {},
     "output_type": "execute_result"
    },
    {
     "data": {
      "image/png": "[encoded data removed]",
      "text/plain": [
       "<Figure size 432x288 with 1 Axes>"
      ]
     },
     "metadata": {
      "needs_background": "light"
     },
     "output_type": "display_data"
    }
   ],
   "source": [
    "# Get the number of clicks per spend as per booking dates\n",
    "booking_clicks_per_spend = booking_dow_clicks_and_spend_sum[\"CLICKS\"]/booking_dow_clicks_and_spend_sum[\"SPEND\"]\n",
    "\n",
    "# Plot number of clicks per spend as per booking dates\n",
    "ax = booking_clicks_per_spend.plot(title='Juxtaposition of Clicks and Spend per Booking DOW')\n",
    "ax.set_xlabel(\"Day of week\")\n",
    "ax.set_ylabel(\"Number of clicks per spend\")"
   ]
  },
  {
   "cell_type": "markdown",
   "metadata": {},
   "source": [
    "#### Again, here, it is shown that Saturday has the lowest return on ad spend with respect to clicks/spend. "
   ]
  },
  {
   "cell_type": "markdown",
   "metadata": {},
   "source": [
    "Answer to Question 2\n",
    "======"
   ]
  },
  {
   "cell_type": "markdown",
   "metadata": {},
   "source": [
    "To maximize clicks, it would be best to advertise mostly short LOS (1-2 days) and short DTA (0-5 days). Therefore, increasing spending on ads like this one and decreasing spending elsewhere is advised. \n",
    "\n",
    "From looking at these graphs, it seems like the spend on Friday and Saturday is receiving the most clicks, however, Friday and Saturday have the lowest return on ad spend with respect to clicks/spend. Therefore, it would be advised to consider testing putting more money into other days such as Sunday, Tuesday, and Thursday, which have the highest return on ad spend, in an experiment. \n",
    "\n",
    "It could also be key to advertise the most popular itineraries (ie, the type of trip that satisfied Question 1). This way, people would immediately see what they want and be able to book in as little clicks as possible, thus optimising a positive user experience and enticing them further to (a) return to the site in the future, and (b) recommend the site to friends. "
   ]
  },
  {
   "cell_type": "markdown",
   "metadata": {},
   "source": [
    "Answer to Question 3\n",
    "======"
   ]
  },
  {
   "cell_type": "markdown",
   "metadata": {},
   "source": [
    "#### There are a few things that were NOT in the data that I would be interested to see:\n",
    "- Are there certain hotel chains that are popular, not just individual hotels? This information could also be used in advertisements. \n",
    "- Which states are most popular to stay in?\n",
    "- What is the citizenship of the user? (ie, are US citizens most likely to book in US, while other citizens are most likely to book in another location?) This information could be used to cater advertisements more to the user. \n",
    "- Likewise, which state does the user live in, if they live in the US? There may be some trends as to which states like to vacation in which other states. Of course, the data would have to be anonymized. \n",
    "- All of this data is from May 2019. I suspect that some interesting insights could be gained from looking at different months of the year in comparison with eachother. For example, the holiday season would likely have a spike in interest, so spend and clicks could be maximized there. Likewise, other seasons such as March Break or Black Friday or Valentine's Day may have spikes as well (given catered advertisements). \n",
    "\n",
    "#### Insights from the data that would be interesting to dive deeper on:\n",
    "- Why does Saturday always have the poorest return on ad spend with respect to clicks/spend, even though Saturday spend always brings in the most clicks?\n",
    "- Why is there not a trend with more impressions equalling more clicks?\n"
   ]
  },
  {
   "cell_type": "markdown",
   "metadata": {},
   "source": [
    "### Thank you for allowing me to participate in this interesting data challenge, SnapTravel!\n",
    "\n",
    "Sincerely,\n",
    "\n",
    "Anonymous"
   ]
  }
 ],
 "metadata": {
  "kernelspec": {
   "display_name": "Python 3",
   "language": "python",
   "name": "python3"
  },
  "language_info": {
   "codemirror_mode": {
    "name": "ipython",
    "version": 3
   },
   "file_extension": ".py",
   "mimetype": "text/x-python",
   "name": "python",
   "nbconvert_exporter": "python",
   "pygments_lexer": "ipython3",
   "version": "3.7.6"
  }
 },
 "nbformat": 4,
 "nbformat_minor": 4
}
